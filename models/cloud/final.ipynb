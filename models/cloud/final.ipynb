{
 "cells": [
  {
   "cell_type": "code",
   "execution_count": 15,
   "metadata": {},
   "outputs": [],
   "source": [
    "import numpy as np\n",
    "import pandas as pd\n",
    "import seaborn as sns\n",
    "sns.set(style='darkgrid')\n",
    "import matplotlib.pyplot as plt\n",
    "from sklearn.model_selection import train_test_split\n",
    "from keras.models import Sequential\n",
    "from keras.layers import LSTM, Dense, Dropout\n",
    "import plotly.express as px\n",
    "import torch\n",
    "import torch.nn as nn\n",
    "import torch.optim as optim\n",
    "import numpy as np\n",
    "from sklearn.metrics import accuracy_score, precision_score, recall_score, f1_score, confusion_matrix\n",
    "from torch.utils.data import DataLoader, TensorDataset\n",
    "from collections import Counter\n",
    "from sklearn.preprocessing import MinMaxScaler\n",
    "from sklearn.preprocessing import LabelEncoder\n",
    "from sklearn.model_selection import train_test_split\n",
    "from sklearn.metrics import accuracy_score, classification_report\n",
    "from torch.utils.data import DataLoader, TensorDataset\n",
    "from tqdm import tqdm\n",
    "\n"
   ]
  },
  {
   "cell_type": "code",
   "execution_count": 3,
   "metadata": {},
   "outputs": [
    {
     "data": {
      "text/html": [
       "<div>\n",
       "<style scoped>\n",
       "    .dataframe tbody tr th:only-of-type {\n",
       "        vertical-align: middle;\n",
       "    }\n",
       "\n",
       "    .dataframe tbody tr th {\n",
       "        vertical-align: top;\n",
       "    }\n",
       "\n",
       "    .dataframe thead th {\n",
       "        text-align: right;\n",
       "    }\n",
       "</style>\n",
       "<table border=\"1\" class=\"dataframe\">\n",
       "  <thead>\n",
       "    <tr style=\"text-align: right;\">\n",
       "      <th></th>\n",
       "      <th>Flow Duration</th>\n",
       "      <th>Total Fwd Packets</th>\n",
       "      <th>Fwd Packet Length Mean</th>\n",
       "      <th>Bwd Packet Length Mean</th>\n",
       "      <th>Flow IAT Mean</th>\n",
       "      <th>SYN Flag Count</th>\n",
       "      <th>FIN Flag Count</th>\n",
       "      <th>Active Mean</th>\n",
       "      <th>Idle Mean</th>\n",
       "      <th>Label</th>\n",
       "    </tr>\n",
       "  </thead>\n",
       "  <tbody>\n",
       "    <tr>\n",
       "      <th>0</th>\n",
       "      <td>32046067</td>\n",
       "      <td>2</td>\n",
       "      <td>37.000000</td>\n",
       "      <td>0.000000</td>\n",
       "      <td>3.200000e+07</td>\n",
       "      <td>1</td>\n",
       "      <td>0</td>\n",
       "      <td>0.0</td>\n",
       "      <td>0.0</td>\n",
       "      <td>BENIGN</td>\n",
       "    </tr>\n",
       "    <tr>\n",
       "      <th>1</th>\n",
       "      <td>66073</td>\n",
       "      <td>4</td>\n",
       "      <td>44.000000</td>\n",
       "      <td>107.000000</td>\n",
       "      <td>9.439000e+03</td>\n",
       "      <td>0</td>\n",
       "      <td>0</td>\n",
       "      <td>0.0</td>\n",
       "      <td>0.0</td>\n",
       "      <td>BENIGN</td>\n",
       "    </tr>\n",
       "    <tr>\n",
       "      <th>2</th>\n",
       "      <td>60025</td>\n",
       "      <td>1</td>\n",
       "      <td>56.000000</td>\n",
       "      <td>112.000000</td>\n",
       "      <td>6.002500e+04</td>\n",
       "      <td>0</td>\n",
       "      <td>0</td>\n",
       "      <td>0.0</td>\n",
       "      <td>0.0</td>\n",
       "      <td>BENIGN</td>\n",
       "    </tr>\n",
       "    <tr>\n",
       "      <th>3</th>\n",
       "      <td>47619</td>\n",
       "      <td>1</td>\n",
       "      <td>44.000000</td>\n",
       "      <td>213.000000</td>\n",
       "      <td>4.761900e+04</td>\n",
       "      <td>0</td>\n",
       "      <td>0</td>\n",
       "      <td>0.0</td>\n",
       "      <td>0.0</td>\n",
       "      <td>BENIGN</td>\n",
       "    </tr>\n",
       "    <tr>\n",
       "      <th>4</th>\n",
       "      <td>99329635</td>\n",
       "      <td>6</td>\n",
       "      <td>53.333333</td>\n",
       "      <td>1656.428571</td>\n",
       "      <td>8.277470e+06</td>\n",
       "      <td>0</td>\n",
       "      <td>1</td>\n",
       "      <td>13973.0</td>\n",
       "      <td>99300000.0</td>\n",
       "      <td>DoS Hulk</td>\n",
       "    </tr>\n",
       "  </tbody>\n",
       "</table>\n",
       "</div>"
      ],
      "text/plain": [
       "   Flow Duration  Total Fwd Packets  Fwd Packet Length Mean  \\\n",
       "0       32046067                  2               37.000000   \n",
       "1          66073                  4               44.000000   \n",
       "2          60025                  1               56.000000   \n",
       "3          47619                  1               44.000000   \n",
       "4       99329635                  6               53.333333   \n",
       "\n",
       "   Bwd Packet Length Mean  Flow IAT Mean  SYN Flag Count  FIN Flag Count  \\\n",
       "0                0.000000   3.200000e+07               1               0   \n",
       "1              107.000000   9.439000e+03               0               0   \n",
       "2              112.000000   6.002500e+04               0               0   \n",
       "3              213.000000   4.761900e+04               0               0   \n",
       "4             1656.428571   8.277470e+06               0               1   \n",
       "\n",
       "   Active Mean   Idle Mean     Label  \n",
       "0          0.0         0.0    BENIGN  \n",
       "1          0.0         0.0    BENIGN  \n",
       "2          0.0         0.0    BENIGN  \n",
       "3          0.0         0.0    BENIGN  \n",
       "4      13973.0  99300000.0  DoS Hulk  "
      ]
     },
     "execution_count": 3,
     "metadata": {},
     "output_type": "execute_result"
    }
   ],
   "source": [
    "data = pd.read_csv('network_ids_data .csv')\n",
    "data.head()"
   ]
  },
  {
   "cell_type": "code",
   "execution_count": 4,
   "metadata": {},
   "outputs": [
    {
     "data": {
      "text/plain": [
       "(1500000, 10)"
      ]
     },
     "execution_count": 4,
     "metadata": {},
     "output_type": "execute_result"
    }
   ],
   "source": [
    "data.shape"
   ]
  },
  {
   "cell_type": "code",
   "execution_count": 5,
   "metadata": {},
   "outputs": [
    {
     "name": "stdout",
     "output_type": "stream",
     "text": [
      "<class 'pandas.core.frame.DataFrame'>\n",
      "RangeIndex: 1500000 entries, 0 to 1499999\n",
      "Data columns (total 10 columns):\n",
      " #   Column                  Non-Null Count    Dtype  \n",
      "---  ------                  --------------    -----  \n",
      " 0   Flow Duration           1500000 non-null  int64  \n",
      " 1   Total Fwd Packets       1500000 non-null  int64  \n",
      " 2   Fwd Packet Length Mean  1500000 non-null  float64\n",
      " 3   Bwd Packet Length Mean  1500000 non-null  float64\n",
      " 4   Flow IAT Mean           1500000 non-null  float64\n",
      " 5   SYN Flag Count          1500000 non-null  int64  \n",
      " 6   FIN Flag Count          1500000 non-null  int64  \n",
      " 7   Active Mean             1500000 non-null  float64\n",
      " 8   Idle Mean               1500000 non-null  float64\n",
      " 9   Label                   1500000 non-null  object \n",
      "dtypes: float64(5), int64(4), object(1)\n",
      "memory usage: 114.4+ MB\n"
     ]
    }
   ],
   "source": [
    "data.info()"
   ]
  },
  {
   "cell_type": "code",
   "execution_count": 6,
   "metadata": {},
   "outputs": [
    {
     "data": {
      "text/plain": [
       "<Axes: >"
      ]
     },
     "execution_count": 6,
     "metadata": {},
     "output_type": "execute_result"
    },
    {
     "data": {
      "image/png": "[encoded data removed]",
      "text/plain": [
       "<Figure size 640x480 with 2 Axes>"
      ]
     },
     "metadata": {},
     "output_type": "display_data"
    }
   ],
   "source": [
    "sns.heatmap(data.isnull())"
   ]
  },
  {
   "cell_type": "code",
   "execution_count": 7,
   "metadata": {},
   "outputs": [
    {
     "data": {
      "text/plain": [
       "np.int64(510412)"
      ]
     },
     "execution_count": 7,
     "metadata": {},
     "output_type": "execute_result"
    }
   ],
   "source": [
    "data.duplicated().sum()"
   ]
  },
  {
   "cell_type": "code",
   "execution_count": 8,
   "metadata": {},
   "outputs": [
    {
     "data": {
      "text/plain": [
       "(989588, 10)"
      ]
     },
     "execution_count": 8,
     "metadata": {},
     "output_type": "execute_result"
    }
   ],
   "source": [
    "data.drop_duplicates(inplace = True)\n",
    "data.shape"
   ]
  },
  {
   "cell_type": "code",
   "execution_count": 9,
   "metadata": {},
   "outputs": [
    {
     "name": "stdout",
     "output_type": "stream",
     "text": [
      "Series([], dtype: int64)\n"
     ]
    }
   ],
   "source": [
    "numeric_cols = data.select_dtypes(include = np.number).columns#if we have infinity values in the data\n",
    "inf_count = np.isinf(data[numeric_cols]).sum()\n",
    "print(inf_count[inf_count > 0])"
   ]
  },
  {
   "cell_type": "code",
   "execution_count": 10,
   "metadata": {},
   "outputs": [
    {
     "name": "stdout",
     "output_type": "stream",
     "text": [
      "Class distribution before handling imbalance:\n",
      "Class BENIGN: 814922 samples\n",
      "Class DoS Hulk: 89086 samples\n",
      "Class FTP-Patator: 2297 samples\n",
      "Class PortScan: 1088 samples\n",
      "Class DDoS: 67693 samples\n",
      "Class DoS Slowhttptest: 2765 samples\n",
      "Class DoS slowloris: 2691 samples\n",
      "Class Web Attack � XSS: 353 samples\n",
      "Class Bot: 742 samples\n",
      "Class DoS GoldenEye: 5465 samples\n",
      "Class SSH-Patator: 1686 samples\n",
      "Class Web Attack � Brute Force: 766 samples\n",
      "Class Infiltration: 19 samples\n",
      "Class Web Attack � Sql Injection: 11 samples\n",
      "Class Heartbleed: 4 samples\n"
     ]
    }
   ],
   "source": [
    "target = \"Label\"\n",
    "class_distribution = Counter(data[target])\n",
    "\n",
    "print(\"Class distribution before handling imbalance:\")\n",
    "for label, count in class_distribution.items():\n",
    "    print(f\"Class {label}: {count} samples\")\n"
   ]
  },
  {
   "cell_type": "code",
   "execution_count": 11,
   "metadata": {},
   "outputs": [],
   "source": [
    "\n",
    "\n",
    "scaler = MinMaxScaler()\n",
    "\n",
    "# Identify numeric columns\n",
    "num_columns = data.select_dtypes(include=np.number).columns\n",
    "\n",
    "# Apply MinMaxScaler\n",
    "data[num_columns] = scaler.fit_transform(data[num_columns])"
   ]
  },
  {
   "cell_type": "code",
   "execution_count": 12,
   "metadata": {},
   "outputs": [
    {
     "data": {
      "text/html": [
       "<div>\n",
       "<style scoped>\n",
       "    .dataframe tbody tr th:only-of-type {\n",
       "        vertical-align: middle;\n",
       "    }\n",
       "\n",
       "    .dataframe tbody tr th {\n",
       "        vertical-align: top;\n",
       "    }\n",
       "\n",
       "    .dataframe thead th {\n",
       "        text-align: right;\n",
       "    }\n",
       "</style>\n",
       "<table border=\"1\" class=\"dataframe\">\n",
       "  <thead>\n",
       "    <tr style=\"text-align: right;\">\n",
       "      <th></th>\n",
       "      <th>Flow Duration</th>\n",
       "      <th>Total Fwd Packets</th>\n",
       "      <th>Fwd Packet Length Mean</th>\n",
       "      <th>Bwd Packet Length Mean</th>\n",
       "      <th>Flow IAT Mean</th>\n",
       "      <th>SYN Flag Count</th>\n",
       "      <th>FIN Flag Count</th>\n",
       "      <th>Active Mean</th>\n",
       "      <th>Idle Mean</th>\n",
       "      <th>Label</th>\n",
       "    </tr>\n",
       "  </thead>\n",
       "  <tbody>\n",
       "    <tr>\n",
       "      <th>0</th>\n",
       "      <td>0.267051</td>\n",
       "      <td>0.000005</td>\n",
       "      <td>0.006230</td>\n",
       "      <td>0.000000</td>\n",
       "      <td>0.266667</td>\n",
       "      <td>1.0</td>\n",
       "      <td>0.0</td>\n",
       "      <td>0.000000</td>\n",
       "      <td>0.0000</td>\n",
       "      <td>BENIGN</td>\n",
       "    </tr>\n",
       "    <tr>\n",
       "      <th>1</th>\n",
       "      <td>0.000551</td>\n",
       "      <td>0.000014</td>\n",
       "      <td>0.007408</td>\n",
       "      <td>0.018447</td>\n",
       "      <td>0.000079</td>\n",
       "      <td>0.0</td>\n",
       "      <td>0.0</td>\n",
       "      <td>0.000000</td>\n",
       "      <td>0.0000</td>\n",
       "      <td>BENIGN</td>\n",
       "    </tr>\n",
       "    <tr>\n",
       "      <th>2</th>\n",
       "      <td>0.000500</td>\n",
       "      <td>0.000000</td>\n",
       "      <td>0.009429</td>\n",
       "      <td>0.019309</td>\n",
       "      <td>0.000500</td>\n",
       "      <td>0.0</td>\n",
       "      <td>0.0</td>\n",
       "      <td>0.000000</td>\n",
       "      <td>0.0000</td>\n",
       "      <td>BENIGN</td>\n",
       "    </tr>\n",
       "    <tr>\n",
       "      <th>3</th>\n",
       "      <td>0.000397</td>\n",
       "      <td>0.000000</td>\n",
       "      <td>0.007408</td>\n",
       "      <td>0.036721</td>\n",
       "      <td>0.000397</td>\n",
       "      <td>0.0</td>\n",
       "      <td>0.0</td>\n",
       "      <td>0.000000</td>\n",
       "      <td>0.0000</td>\n",
       "      <td>BENIGN</td>\n",
       "    </tr>\n",
       "    <tr>\n",
       "      <th>4</th>\n",
       "      <td>0.827747</td>\n",
       "      <td>0.000023</td>\n",
       "      <td>0.008980</td>\n",
       "      <td>0.285567</td>\n",
       "      <td>0.068979</td>\n",
       "      <td>0.0</td>\n",
       "      <td>1.0</td>\n",
       "      <td>0.000127</td>\n",
       "      <td>0.8275</td>\n",
       "      <td>DoS Hulk</td>\n",
       "    </tr>\n",
       "    <tr>\n",
       "      <th>...</th>\n",
       "      <td>...</td>\n",
       "      <td>...</td>\n",
       "      <td>...</td>\n",
       "      <td>...</td>\n",
       "      <td>...</td>\n",
       "      <td>...</td>\n",
       "      <td>...</td>\n",
       "      <td>...</td>\n",
       "      <td>...</td>\n",
       "      <td>...</td>\n",
       "    </tr>\n",
       "    <tr>\n",
       "      <th>1499991</th>\n",
       "      <td>0.000199</td>\n",
       "      <td>0.000005</td>\n",
       "      <td>0.006566</td>\n",
       "      <td>0.009482</td>\n",
       "      <td>0.000067</td>\n",
       "      <td>0.0</td>\n",
       "      <td>0.0</td>\n",
       "      <td>0.000000</td>\n",
       "      <td>0.0000</td>\n",
       "      <td>BENIGN</td>\n",
       "    </tr>\n",
       "    <tr>\n",
       "      <th>1499993</th>\n",
       "      <td>0.003346</td>\n",
       "      <td>0.000009</td>\n",
       "      <td>0.031990</td>\n",
       "      <td>0.000690</td>\n",
       "      <td>0.000669</td>\n",
       "      <td>0.0</td>\n",
       "      <td>0.0</td>\n",
       "      <td>0.000000</td>\n",
       "      <td>0.0000</td>\n",
       "      <td>BENIGN</td>\n",
       "    </tr>\n",
       "    <tr>\n",
       "      <th>1499994</th>\n",
       "      <td>0.006264</td>\n",
       "      <td>0.000037</td>\n",
       "      <td>0.013152</td>\n",
       "      <td>0.061907</td>\n",
       "      <td>0.000330</td>\n",
       "      <td>0.0</td>\n",
       "      <td>0.0</td>\n",
       "      <td>0.000000</td>\n",
       "      <td>0.0000</td>\n",
       "      <td>BENIGN</td>\n",
       "    </tr>\n",
       "    <tr>\n",
       "      <th>1499998</th>\n",
       "      <td>0.000259</td>\n",
       "      <td>0.000000</td>\n",
       "      <td>0.008924</td>\n",
       "      <td>0.024308</td>\n",
       "      <td>0.000259</td>\n",
       "      <td>0.0</td>\n",
       "      <td>0.0</td>\n",
       "      <td>0.000000</td>\n",
       "      <td>0.0000</td>\n",
       "      <td>BENIGN</td>\n",
       "    </tr>\n",
       "    <tr>\n",
       "      <th>1499999</th>\n",
       "      <td>0.000259</td>\n",
       "      <td>0.000005</td>\n",
       "      <td>0.006398</td>\n",
       "      <td>0.017757</td>\n",
       "      <td>0.000086</td>\n",
       "      <td>0.0</td>\n",
       "      <td>0.0</td>\n",
       "      <td>0.000000</td>\n",
       "      <td>0.0000</td>\n",
       "      <td>BENIGN</td>\n",
       "    </tr>\n",
       "  </tbody>\n",
       "</table>\n",
       "<p>989588 rows × 10 columns</p>\n",
       "</div>"
      ],
      "text/plain": [
       "         Flow Duration  Total Fwd Packets  Fwd Packet Length Mean  \\\n",
       "0             0.267051           0.000005                0.006230   \n",
       "1             0.000551           0.000014                0.007408   \n",
       "2             0.000500           0.000000                0.009429   \n",
       "3             0.000397           0.000000                0.007408   \n",
       "4             0.827747           0.000023                0.008980   \n",
       "...                ...                ...                     ...   \n",
       "1499991       0.000199           0.000005                0.006566   \n",
       "1499993       0.003346           0.000009                0.031990   \n",
       "1499994       0.006264           0.000037                0.013152   \n",
       "1499998       0.000259           0.000000                0.008924   \n",
       "1499999       0.000259           0.000005                0.006398   \n",
       "\n",
       "         Bwd Packet Length Mean  Flow IAT Mean  SYN Flag Count  \\\n",
       "0                      0.000000       0.266667             1.0   \n",
       "1                      0.018447       0.000079             0.0   \n",
       "2                      0.019309       0.000500             0.0   \n",
       "3                      0.036721       0.000397             0.0   \n",
       "4                      0.285567       0.068979             0.0   \n",
       "...                         ...            ...             ...   \n",
       "1499991                0.009482       0.000067             0.0   \n",
       "1499993                0.000690       0.000669             0.0   \n",
       "1499994                0.061907       0.000330             0.0   \n",
       "1499998                0.024308       0.000259             0.0   \n",
       "1499999                0.017757       0.000086             0.0   \n",
       "\n",
       "         FIN Flag Count  Active Mean  Idle Mean     Label  \n",
       "0                   0.0     0.000000     0.0000    BENIGN  \n",
       "1                   0.0     0.000000     0.0000    BENIGN  \n",
       "2                   0.0     0.000000     0.0000    BENIGN  \n",
       "3                   0.0     0.000000     0.0000    BENIGN  \n",
       "4                   1.0     0.000127     0.8275  DoS Hulk  \n",
       "...                 ...          ...        ...       ...  \n",
       "1499991             0.0     0.000000     0.0000    BENIGN  \n",
       "1499993             0.0     0.000000     0.0000    BENIGN  \n",
       "1499994             0.0     0.000000     0.0000    BENIGN  \n",
       "1499998             0.0     0.000000     0.0000    BENIGN  \n",
       "1499999             0.0     0.000000     0.0000    BENIGN  \n",
       "\n",
       "[989588 rows x 10 columns]"
      ]
     },
     "execution_count": 12,
     "metadata": {},
     "output_type": "execute_result"
    }
   ],
   "source": [
    "data"
   ]
  },
  {
   "cell_type": "code",
   "execution_count": 13,
   "metadata": {},
   "outputs": [],
   "source": [
    "label_encoder = LabelEncoder()\n",
    "data['Label'] = label_encoder.fit_transform(data['Label'])\n"
   ]
  },
  {
   "cell_type": "code",
   "execution_count": 14,
   "metadata": {},
   "outputs": [
    {
     "data": {
      "text/html": [
       "<div>\n",
       "<style scoped>\n",
       "    .dataframe tbody tr th:only-of-type {\n",
       "        vertical-align: middle;\n",
       "    }\n",
       "\n",
       "    .dataframe tbody tr th {\n",
       "        vertical-align: top;\n",
       "    }\n",
       "\n",
       "    .dataframe thead th {\n",
       "        text-align: right;\n",
       "    }\n",
       "</style>\n",
       "<table border=\"1\" class=\"dataframe\">\n",
       "  <thead>\n",
       "    <tr style=\"text-align: right;\">\n",
       "      <th></th>\n",
       "      <th>Flow Duration</th>\n",
       "      <th>Total Fwd Packets</th>\n",
       "      <th>Fwd Packet Length Mean</th>\n",
       "      <th>Bwd Packet Length Mean</th>\n",
       "      <th>Flow IAT Mean</th>\n",
       "      <th>SYN Flag Count</th>\n",
       "      <th>FIN Flag Count</th>\n",
       "      <th>Active Mean</th>\n",
       "      <th>Idle Mean</th>\n",
       "      <th>Label</th>\n",
       "    </tr>\n",
       "  </thead>\n",
       "  <tbody>\n",
       "    <tr>\n",
       "      <th>0</th>\n",
       "      <td>0.267051</td>\n",
       "      <td>0.000005</td>\n",
       "      <td>0.006230</td>\n",
       "      <td>0.000000</td>\n",
       "      <td>0.266667</td>\n",
       "      <td>1.0</td>\n",
       "      <td>0.0</td>\n",
       "      <td>0.000000</td>\n",
       "      <td>0.0000</td>\n",
       "      <td>0</td>\n",
       "    </tr>\n",
       "    <tr>\n",
       "      <th>1</th>\n",
       "      <td>0.000551</td>\n",
       "      <td>0.000014</td>\n",
       "      <td>0.007408</td>\n",
       "      <td>0.018447</td>\n",
       "      <td>0.000079</td>\n",
       "      <td>0.0</td>\n",
       "      <td>0.0</td>\n",
       "      <td>0.000000</td>\n",
       "      <td>0.0000</td>\n",
       "      <td>0</td>\n",
       "    </tr>\n",
       "    <tr>\n",
       "      <th>2</th>\n",
       "      <td>0.000500</td>\n",
       "      <td>0.000000</td>\n",
       "      <td>0.009429</td>\n",
       "      <td>0.019309</td>\n",
       "      <td>0.000500</td>\n",
       "      <td>0.0</td>\n",
       "      <td>0.0</td>\n",
       "      <td>0.000000</td>\n",
       "      <td>0.0000</td>\n",
       "      <td>0</td>\n",
       "    </tr>\n",
       "    <tr>\n",
       "      <th>3</th>\n",
       "      <td>0.000397</td>\n",
       "      <td>0.000000</td>\n",
       "      <td>0.007408</td>\n",
       "      <td>0.036721</td>\n",
       "      <td>0.000397</td>\n",
       "      <td>0.0</td>\n",
       "      <td>0.0</td>\n",
       "      <td>0.000000</td>\n",
       "      <td>0.0000</td>\n",
       "      <td>0</td>\n",
       "    </tr>\n",
       "    <tr>\n",
       "      <th>4</th>\n",
       "      <td>0.827747</td>\n",
       "      <td>0.000023</td>\n",
       "      <td>0.008980</td>\n",
       "      <td>0.285567</td>\n",
       "      <td>0.068979</td>\n",
       "      <td>0.0</td>\n",
       "      <td>1.0</td>\n",
       "      <td>0.000127</td>\n",
       "      <td>0.8275</td>\n",
       "      <td>4</td>\n",
       "    </tr>\n",
       "    <tr>\n",
       "      <th>...</th>\n",
       "      <td>...</td>\n",
       "      <td>...</td>\n",
       "      <td>...</td>\n",
       "      <td>...</td>\n",
       "      <td>...</td>\n",
       "      <td>...</td>\n",
       "      <td>...</td>\n",
       "      <td>...</td>\n",
       "      <td>...</td>\n",
       "      <td>...</td>\n",
       "    </tr>\n",
       "    <tr>\n",
       "      <th>1499991</th>\n",
       "      <td>0.000199</td>\n",
       "      <td>0.000005</td>\n",
       "      <td>0.006566</td>\n",
       "      <td>0.009482</td>\n",
       "      <td>0.000067</td>\n",
       "      <td>0.0</td>\n",
       "      <td>0.0</td>\n",
       "      <td>0.000000</td>\n",
       "      <td>0.0000</td>\n",
       "      <td>0</td>\n",
       "    </tr>\n",
       "    <tr>\n",
       "      <th>1499993</th>\n",
       "      <td>0.003346</td>\n",
       "      <td>0.000009</td>\n",
       "      <td>0.031990</td>\n",
       "      <td>0.000690</td>\n",
       "      <td>0.000669</td>\n",
       "      <td>0.0</td>\n",
       "      <td>0.0</td>\n",
       "      <td>0.000000</td>\n",
       "      <td>0.0000</td>\n",
       "      <td>0</td>\n",
       "    </tr>\n",
       "    <tr>\n",
       "      <th>1499994</th>\n",
       "      <td>0.006264</td>\n",
       "      <td>0.000037</td>\n",
       "      <td>0.013152</td>\n",
       "      <td>0.061907</td>\n",
       "      <td>0.000330</td>\n",
       "      <td>0.0</td>\n",
       "      <td>0.0</td>\n",
       "      <td>0.000000</td>\n",
       "      <td>0.0000</td>\n",
       "      <td>0</td>\n",
       "    </tr>\n",
       "    <tr>\n",
       "      <th>1499998</th>\n",
       "      <td>0.000259</td>\n",
       "      <td>0.000000</td>\n",
       "      <td>0.008924</td>\n",
       "      <td>0.024308</td>\n",
       "      <td>0.000259</td>\n",
       "      <td>0.0</td>\n",
       "      <td>0.0</td>\n",
       "      <td>0.000000</td>\n",
       "      <td>0.0000</td>\n",
       "      <td>0</td>\n",
       "    </tr>\n",
       "    <tr>\n",
       "      <th>1499999</th>\n",
       "      <td>0.000259</td>\n",
       "      <td>0.000005</td>\n",
       "      <td>0.006398</td>\n",
       "      <td>0.017757</td>\n",
       "      <td>0.000086</td>\n",
       "      <td>0.0</td>\n",
       "      <td>0.0</td>\n",
       "      <td>0.000000</td>\n",
       "      <td>0.0000</td>\n",
       "      <td>0</td>\n",
       "    </tr>\n",
       "  </tbody>\n",
       "</table>\n",
       "<p>989588 rows × 10 columns</p>\n",
       "</div>"
      ],
      "text/plain": [
       "         Flow Duration  Total Fwd Packets  Fwd Packet Length Mean  \\\n",
       "0             0.267051           0.000005                0.006230   \n",
       "1             0.000551           0.000014                0.007408   \n",
       "2             0.000500           0.000000                0.009429   \n",
       "3             0.000397           0.000000                0.007408   \n",
       "4             0.827747           0.000023                0.008980   \n",
       "...                ...                ...                     ...   \n",
       "1499991       0.000199           0.000005                0.006566   \n",
       "1499993       0.003346           0.000009                0.031990   \n",
       "1499994       0.006264           0.000037                0.013152   \n",
       "1499998       0.000259           0.000000                0.008924   \n",
       "1499999       0.000259           0.000005                0.006398   \n",
       "\n",
       "         Bwd Packet Length Mean  Flow IAT Mean  SYN Flag Count  \\\n",
       "0                      0.000000       0.266667             1.0   \n",
       "1                      0.018447       0.000079             0.0   \n",
       "2                      0.019309       0.000500             0.0   \n",
       "3                      0.036721       0.000397             0.0   \n",
       "4                      0.285567       0.068979             0.0   \n",
       "...                         ...            ...             ...   \n",
       "1499991                0.009482       0.000067             0.0   \n",
       "1499993                0.000690       0.000669             0.0   \n",
       "1499994                0.061907       0.000330             0.0   \n",
       "1499998                0.024308       0.000259             0.0   \n",
       "1499999                0.017757       0.000086             0.0   \n",
       "\n",
       "         FIN Flag Count  Active Mean  Idle Mean  Label  \n",
       "0                   0.0     0.000000     0.0000      0  \n",
       "1                   0.0     0.000000     0.0000      0  \n",
       "2                   0.0     0.000000     0.0000      0  \n",
       "3                   0.0     0.000000     0.0000      0  \n",
       "4                   1.0     0.000127     0.8275      4  \n",
       "...                 ...          ...        ...    ...  \n",
       "1499991             0.0     0.000000     0.0000      0  \n",
       "1499993             0.0     0.000000     0.0000      0  \n",
       "1499994             0.0     0.000000     0.0000      0  \n",
       "1499998             0.0     0.000000     0.0000      0  \n",
       "1499999             0.0     0.000000     0.0000      0  \n",
       "\n",
       "[989588 rows x 10 columns]"
      ]
     },
     "execution_count": 14,
     "metadata": {},
     "output_type": "execute_result"
    }
   ],
   "source": [
    "data"
   ]
  },
  {
   "cell_type": "code",
   "execution_count": 17,
   "metadata": {},
   "outputs": [],
   "source": [
    "\n",
    "# Assume `data` is a DataFrame with preprocessed features and target column\n",
    "\n",
    "# Split data into features (X) and labels (y)\n",
    "X = data.iloc[:, :-1].values  # All columns except 'Label'\n",
    "y = data['Label'].values  # The 'Label' column\n",
    "\n",
    "# Train-Validation-Test Split\n",
    "X_train, X_temp, y_train, y_temp = train_test_split(X, y, test_size=0.3, random_state=42)\n",
    "X_val, X_test, y_val, y_test = train_test_split(X_temp, y_temp, test_size=0.5, random_state=42)\n",
    "\n",
    "# Convert to PyTorch tensors\n"
   ]
  },
  {
   "cell_type": "code",
   "execution_count": 18,
   "metadata": {},
   "outputs": [],
   "source": [
    "device = torch.device('cuda' if torch.cuda.is_available() else 'cpu')\n",
    "X_train = torch.tensor(X_train, dtype=torch.float32).to(device)\n",
    "X_val = torch.tensor(X_val, dtype=torch.float32).to(device)\n",
    "X_test = torch.tensor(X_test, dtype=torch.float32).to(device)\n",
    "y_train = torch.tensor(y_train, dtype=torch.long).to(device)  # Use long for classification\n",
    "y_val = torch.tensor(y_val, dtype=torch.long).to(device)\n",
    "y_test = torch.tensor(y_test, dtype=torch.long).to(device)\n",
    "\n",
    "# Create DataLoaders\n",
    "batch_size = 64\n",
    "train_loader = DataLoader(TensorDataset(X_train, y_train), batch_size=batch_size, shuffle=True)\n",
    "val_loader = DataLoader(TensorDataset(X_val, y_val), batch_size=batch_size, shuffle=False)\n",
    "test_loader = DataLoader(TensorDataset(X_test, y_test), batch_size=batch_size, shuffle=False)"
   ]
  },
  {
   "cell_type": "code",
   "execution_count": 19,
   "metadata": {},
   "outputs": [],
   "source": [
    "# Define the LSTM Model\n",
    "class LSTMModel(nn.Module):\n",
    "    def __init__(self, input_size, hidden_size, num_classes, num_layers=2):\n",
    "        super(LSTMModel, self).__init__()\n",
    "        self.lstm = nn.LSTM(input_size, hidden_size, num_layers, batch_first=True)\n",
    "        self.fc = nn.Linear(hidden_size, num_classes)\n",
    "    \n",
    "    def forward(self, x):\n",
    "        x = x.unsqueeze(1)  # Add a dummy time dimension\n",
    "        out, _ = self.lstm(x)\n",
    "        out = self.fc(out[:, -1, :])  # Output from the last time step\n",
    "        return out\n",
    "\n",
    "# Instantiate the model\n",
    "input_size = X_train.shape[1]\n",
    "hidden_size = 64\n",
    "num_classes = len(np.unique(y))  # Number of unique labels\n",
    "model = LSTMModel(input_size, hidden_size, num_classes).to(device)\n",
    "\n"
   ]
  },
  {
   "cell_type": "code",
   "execution_count": 20,
   "metadata": {},
   "outputs": [],
   "source": [
    "# Loss function and optimizer\n",
    "criterion = nn.CrossEntropyLoss()  # For multi-class classification\n",
    "optimizer = torch.optim.Adam(model.parameters(), lr=0.001)\n",
    "\n",
    "\n"
   ]
  },
  {
   "cell_type": "code",
   "execution_count": 21,
   "metadata": {},
   "outputs": [
    {
     "name": "stderr",
     "output_type": "stream",
     "text": [
      "Training Epochs:  10%|█         | 1/10 [01:05<09:52, 65.80s/it]"
     ]
    },
    {
     "name": "stdout",
     "output_type": "stream",
     "text": [
      "Epoch 1/10, Train Loss: 0.2617, Val Loss: 0.1575, Val Accuracy: 0.9597\n"
     ]
    },
    {
     "name": "stderr",
     "output_type": "stream",
     "text": [
      "Training Epochs:  20%|██        | 2/10 [01:54<07:24, 55.61s/it]"
     ]
    },
    {
     "name": "stdout",
     "output_type": "stream",
     "text": [
      "Epoch 2/10, Train Loss: 0.1368, Val Loss: 0.1089, Val Accuracy: 0.9653\n"
     ]
    },
    {
     "name": "stderr",
     "output_type": "stream",
     "text": [
      "Training Epochs:  30%|███       | 3/10 [03:00<07:03, 60.51s/it]"
     ]
    },
    {
     "name": "stdout",
     "output_type": "stream",
     "text": [
      "Epoch 3/10, Train Loss: 0.0988, Val Loss: 0.0832, Val Accuracy: 0.9784\n"
     ]
    },
    {
     "name": "stderr",
     "output_type": "stream",
     "text": [
      "Training Epochs:  40%|████      | 4/10 [04:17<06:41, 66.84s/it]"
     ]
    },
    {
     "name": "stdout",
     "output_type": "stream",
     "text": [
      "Epoch 4/10, Train Loss: 0.0799, Val Loss: 0.0699, Val Accuracy: 0.9813\n"
     ]
    },
    {
     "name": "stderr",
     "output_type": "stream",
     "text": [
      "Training Epochs:  50%|█████     | 5/10 [05:03<04:57, 59.45s/it]"
     ]
    },
    {
     "name": "stdout",
     "output_type": "stream",
     "text": [
      "Epoch 5/10, Train Loss: 0.0705, Val Loss: 0.0666, Val Accuracy: 0.9826\n"
     ]
    },
    {
     "name": "stderr",
     "output_type": "stream",
     "text": [
      "Training Epochs:  60%|██████    | 6/10 [05:59<03:53, 58.31s/it]"
     ]
    },
    {
     "name": "stdout",
     "output_type": "stream",
     "text": [
      "Epoch 6/10, Train Loss: 0.0639, Val Loss: 0.0616, Val Accuracy: 0.9828\n"
     ]
    },
    {
     "name": "stderr",
     "output_type": "stream",
     "text": [
      "Training Epochs:  70%|███████   | 7/10 [07:41<03:38, 72.71s/it]"
     ]
    },
    {
     "name": "stdout",
     "output_type": "stream",
     "text": [
      "Epoch 7/10, Train Loss: 0.0592, Val Loss: 0.0551, Val Accuracy: 0.9839\n"
     ]
    },
    {
     "name": "stderr",
     "output_type": "stream",
     "text": [
      "Training Epochs:  80%|████████  | 8/10 [09:42<02:55, 87.90s/it]"
     ]
    },
    {
     "name": "stdout",
     "output_type": "stream",
     "text": [
      "Epoch 8/10, Train Loss: 0.0555, Val Loss: 0.0523, Val Accuracy: 0.9846\n"
     ]
    },
    {
     "name": "stderr",
     "output_type": "stream",
     "text": [
      "Training Epochs:  90%|█████████ | 9/10 [11:33<01:35, 95.11s/it]"
     ]
    },
    {
     "name": "stdout",
     "output_type": "stream",
     "text": [
      "Epoch 9/10, Train Loss: 0.0528, Val Loss: 0.0491, Val Accuracy: 0.9849\n"
     ]
    },
    {
     "name": "stderr",
     "output_type": "stream",
     "text": [
      "Training Epochs: 100%|██████████| 10/10 [13:16<00:00, 79.62s/it]"
     ]
    },
    {
     "name": "stdout",
     "output_type": "stream",
     "text": [
      "Epoch 10/10, Train Loss: 0.0507, Val Loss: 0.0467, Val Accuracy: 0.9857\n"
     ]
    },
    {
     "name": "stderr",
     "output_type": "stream",
     "text": [
      "\n"
     ]
    }
   ],
   "source": [
    "# Training parameters\n",
    "num_epochs = 10\n",
    "patience = 5\n",
    "best_val_loss = float('inf')\n",
    "epochs_no_improve = 0\n",
    "\n",
    "# Training Loop\n",
    "for epoch in tqdm(range(num_epochs), desc=\"Training Epochs\"):\n",
    "    model.train()\n",
    "    train_loss = 0\n",
    "\n",
    "    for X_batch, y_batch in train_loader:\n",
    "        optimizer.zero_grad()\n",
    "        outputs = model(X_batch)\n",
    "        loss = criterion(outputs, y_batch)\n",
    "        train_loss += loss.item()\n",
    "        loss.backward()\n",
    "        optimizer.step()\n",
    "\n",
    "    train_loss /= len(train_loader)\n",
    "\n",
    "    # Validation phase\n",
    "    model.eval()\n",
    "    val_loss = 0\n",
    "    val_preds, val_labels = [], []\n",
    "\n",
    "    with torch.no_grad():\n",
    "        for X_batch, y_batch in val_loader:\n",
    "            outputs = model(X_batch)\n",
    "            loss = criterion(outputs, y_batch)\n",
    "            val_loss += loss.item()\n",
    "\n",
    "            val_preds.extend(torch.argmax(outputs, dim=1).cpu().numpy())\n",
    "            val_labels.extend(y_batch.cpu().numpy())\n",
    "\n",
    "    val_loss /= len(val_loader)\n",
    "    val_accuracy = accuracy_score(val_labels, val_preds)\n",
    "\n",
    "    print(f\"Epoch {epoch+1}/{num_epochs}, Train Loss: {train_loss:.4f}, Val Loss: {val_loss:.4f}, Val Accuracy: {val_accuracy:.4f}\")\n",
    "\n",
    "    # Early stopping\n",
    "    if val_loss < best_val_loss:\n",
    "        best_val_loss = val_loss\n",
    "        epochs_no_improve = 0\n",
    "    else:\n",
    "        epochs_no_improve += 1\n",
    "\n",
    "    if epochs_no_improve >= patience:\n",
    "        print(f\"Early stopping at epoch {epoch+1}\")\n",
    "        break\n",
    "\n"
   ]
  },
  {
   "cell_type": "code",
   "execution_count": 22,
   "metadata": {},
   "outputs": [
    {
     "name": "stdout",
     "output_type": "stream",
     "text": [
      "Test Accuracy: 0.9854\n",
      "              precision    recall  f1-score   support\n",
      "\n",
      "           0       0.98      1.00      0.99    122274\n",
      "           1       0.00      0.00      0.00       129\n",
      "           2       0.98      0.98      0.98     10165\n",
      "           3       0.97      0.93      0.95       798\n",
      "           4       1.00      0.92      0.96     13341\n",
      "           5       0.87      0.89      0.88       400\n",
      "           6       0.93      0.89      0.91       417\n",
      "           7       1.00      0.92      0.95       331\n",
      "           9       0.00      0.00      0.00         2\n",
      "          10       0.00      0.00      0.00       168\n",
      "          11       0.99      0.88      0.93       241\n",
      "          12       0.00      0.00      0.00       120\n",
      "          13       0.00      0.00      0.00         1\n",
      "          14       0.00      0.00      0.00        52\n",
      "\n",
      "    accuracy                           0.99    148439\n",
      "   macro avg       0.55      0.53      0.54    148439\n",
      "weighted avg       0.98      0.99      0.98    148439\n",
      "\n"
     ]
    },
    {
     "name": "stderr",
     "output_type": "stream",
     "text": [
      "c:\\Users\\Ahmed fawzi\\AppData\\Local\\Programs\\Python\\Python312\\Lib\\site-packages\\sklearn\\metrics\\_classification.py:1531: UndefinedMetricWarning: Precision is ill-defined and being set to 0.0 in labels with no predicted samples. Use `zero_division` parameter to control this behavior.\n",
      "  _warn_prf(average, modifier, f\"{metric.capitalize()} is\", len(result))\n",
      "c:\\Users\\Ahmed fawzi\\AppData\\Local\\Programs\\Python\\Python312\\Lib\\site-packages\\sklearn\\metrics\\_classification.py:1531: UndefinedMetricWarning: Precision is ill-defined and being set to 0.0 in labels with no predicted samples. Use `zero_division` parameter to control this behavior.\n",
      "  _warn_prf(average, modifier, f\"{metric.capitalize()} is\", len(result))\n",
      "c:\\Users\\Ahmed fawzi\\AppData\\Local\\Programs\\Python\\Python312\\Lib\\site-packages\\sklearn\\metrics\\_classification.py:1531: UndefinedMetricWarning: Precision is ill-defined and being set to 0.0 in labels with no predicted samples. Use `zero_division` parameter to control this behavior.\n",
      "  _warn_prf(average, modifier, f\"{metric.capitalize()} is\", len(result))\n"
     ]
    }
   ],
   "source": [
    "# Test phase\n",
    "model.eval()\n",
    "test_preds, test_labels = [], []\n",
    "\n",
    "with torch.no_grad():\n",
    "    for X_batch, y_batch in test_loader:\n",
    "        outputs = model(X_batch)\n",
    "        test_preds.extend(torch.argmax(outputs, dim=1).cpu().numpy())\n",
    "        test_labels.extend(y_batch.cpu().numpy())\n",
    "\n",
    "test_accuracy = accuracy_score(test_labels, test_preds)\n",
    "print(f\"Test Accuracy: {test_accuracy:.4f}\")\n",
    "print(classification_report(test_labels, test_preds))"
   ]
  }
 ],
 "metadata": {
  "kernelspec": {
   "display_name": "Python 3",
   "language": "python",
   "name": "python3"
  },
  "language_info": {
   "codemirror_mode": {
    "name": "ipython",
    "version": 3
   },
   "file_extension": ".py",
   "mimetype": "text/x-python",
   "name": "python",
   "nbconvert_exporter": "python",
   "pygments_lexer": "ipython3",
   "version": "3.12.3"
  }
 },
 "nbformat": 4,
 "nbformat_minor": 2
}
